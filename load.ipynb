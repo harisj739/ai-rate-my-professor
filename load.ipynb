{
 "cells": [
  {
   "cell_type": "code",
   "execution_count": null,
   "id": "initial_id",
   "metadata": {
    "collapsed": true
   },
   "outputs": [],
   "source": [
    "from dotenv import load_dotenv\n",
    "load_dotenv()\n",
    "import os\n",
    "# from openai import OpenAI\n",
    "from pinecone import Pinecone, ServerlessSpec\n",
    "from transformers import pipeline\n",
    "\n",
    "import tensorflow as tf\n",
    "import torch\n",
    "\n",
    "\n",
    "huggingface_api_key = os.getenv('HUGGING_FACE_API_KEY')"
   ]
  },
  {
   "metadata": {},
   "cell_type": "code",
   "outputs": [],
   "execution_count": null,
   "source": [
    "pc=Pinecone(api_key=os.getenv(\"PINECONE_API_KEY\"))\n",
    "pc.create_index(\n",
    "    name=\"rag\",dimension=1536,metric=\"cosine\",spec=ServerlessSpec(cloud=\"aws\",region=\"us-east-1\")\n",
    ")"
   ],
   "id": "b401ab329931b961"
  },
  {
   "metadata": {},
   "cell_type": "code",
   "outputs": [],
   "execution_count": null,
   "source": [
    "import requests\n",
    "\n",
    "# Set up the headers and the API endpoint\n",
    "headers = {\n",
    "    \"Authorization\": f\"Bearer {huggingface_api_key}\"\n",
    "}\n",
    "\n",
    "api_url = \"https://api-inference.huggingface.co/models/gpt2\"\n",
    "\n",
    "# Example data to be sent to the model\n",
    "data = {\n",
    "    \"inputs\": \"Your input text here\"\n",
    "}\n",
    "\n",
    "# Make a POST request to the Hugging Face API\n",
    "response = requests.post(api_url, headers=headers, json=data)\n",
    "\n",
    "# Output the response\n",
    "print(response.json())"
   ],
   "id": "6501b8dccba0f1fa"
  },
  {
   "metadata": {},
   "cell_type": "code",
   "outputs": [],
   "execution_count": null,
   "source": [
    "import json\n",
    "data=json.load(open(\"reviews.json\"))\n",
    "data['reviews']"
   ],
   "id": "54221a3d5457ccd"
  },
  {
   "metadata": {},
   "cell_type": "code",
   "outputs": [],
   "execution_count": null,
   "source": "print(huggingface_api_key)",
   "id": "eeab2cb88e631f2a"
  },
  {
   "metadata": {},
   "cell_type": "code",
   "outputs": [],
   "execution_count": null,
   "source": [
    "# with open('reviews.json', 'r') as f:\n",
    "#     data = json.load(f)"
   ],
   "id": "36ecc5a3ef918e8e"
  },
  {
   "metadata": {},
   "cell_type": "code",
   "outputs": [],
   "execution_count": null,
   "source": [
    "import torch\n",
    "print(torch.__version__)\n",
    "\n",
    "import tensorflow as tf\n",
    "print(tf.__version__)"
   ],
   "id": "d429b7f3c3bd437c"
  },
  {
   "metadata": {},
   "cell_type": "code",
   "outputs": [],
   "execution_count": null,
   "source": [
    "processed_data=[]\n",
    "# client = OpenAI()\n",
    "# Initialize the Hugging Face pipeline\n",
    "embedding_pipeline = pipeline(\"feature-extraction\", model=\"distilbert-base-uncased\", use_auth_token=huggingface_api_key)\n",
    "\n",
    "for review in data['reviews']:\n",
    "    embedding = embedding_pipeline(review['review'])[0]\n",
    "\n",
    "    processed_data.append({\n",
    "        \"values\": embedding,\n",
    "        \"id\": review[\"professor\"],\n",
    "        \"metadata\": {\n",
    "            \"review\": review[\"review\"],\n",
    "            \"subject\": review[\"subject\"],\n",
    "            \"stars\": review[\"stars\"]\n",
    "        }\n",
    "    })"
   ],
   "id": "419921c652302d38"
  }
 ],
 "metadata": {
  "kernelspec": {
   "display_name": "Python 3",
   "language": "python",
   "name": "python3"
  },
  "language_info": {
   "codemirror_mode": {
    "name": "ipython",
    "version": 2
   },
   "file_extension": ".py",
   "mimetype": "text/x-python",
   "name": "python",
   "nbconvert_exporter": "python",
   "pygments_lexer": "ipython2",
   "version": "2.7.6"
  }
 },
 "nbformat": 4,
 "nbformat_minor": 5
}
